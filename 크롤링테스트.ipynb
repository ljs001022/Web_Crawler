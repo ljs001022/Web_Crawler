{
 "cells": [
  {
   "cell_type": "code",
   "execution_count": 11,
   "metadata": {},
   "outputs": [
    {
     "name": "stdout",
     "output_type": "stream",
     "text": [
      "현재 검색한 직업은 호크아이입니다\n",
      "10 페이지에서 전체 글 제목의 개수: 504\n",
      "10 페이지에서 이모티콘이 포함된 글 제목의 개수: 267\n"
     ]
    }
   ],
   "source": [
    "import requests\n",
    "from bs4 import BeautifulSoup\n",
    "import re\n",
    "\n",
    "# 직업 게시판 URL을 찾는 함수\n",
    "def get_job_board_url(job_name):\n",
    "    main_url = \"https://lostark.inven.co.kr/\"\n",
    "    target_base_url = \"https://www.inven.co.kr\"  # 링크의 베이스 URL\n",
    "    \n",
    "    # 메인 페이지에서 게시판 목록 페이지로 이동\n",
    "    response = requests.get(main_url)\n",
    "    response.raise_for_status()  # 요청 에러 확인\n",
    "    \n",
    "    # HTML 파싱\n",
    "    soup = BeautifulSoup(response.text, \"html.parser\")\n",
    "    \n",
    "    # 입력받은 직업 이름으로 링크 검색\n",
    "    job_link = None\n",
    "    links = soup.find_all(\"a\", href=True)\n",
    "    for link in links:\n",
    "        if job_name in link.text:\n",
    "            job_link = link.get(\"href\")\n",
    "            break\n",
    "    \n",
    "    if job_link:\n",
    "        # 링크가 절대 경로인지 확인하고, 상대 경로인 경우에만 base URL 추가\n",
    "        if not job_link.startswith(\"http\"):\n",
    "            full_url = target_base_url + job_link\n",
    "        else:\n",
    "            full_url = job_link\n",
    "        return full_url\n",
    "    else:\n",
    "        return None\n",
    "\n",
    "# 이모티콘 포함 글 제목 개수와 전체 글 개수를 세는 함수\n",
    "def count_emoji_titles(job_board_url, num_pages):\n",
    "    emoji_pattern = re.compile(r'[●▅]')  # 이모티콘 패턴 정의\n",
    "    emoji_count = 0\n",
    "    total_count = 0  # 전체 글 개수 초기화\n",
    "    \n",
    "    for page in range(1, num_pages + 1):\n",
    "        # 각 페이지의 URL 구성\n",
    "        page_url = f\"{job_board_url}?p={page}\"\n",
    "        response = requests.get(page_url)\n",
    "        response.raise_for_status()  # 요청 에러 확인\n",
    "        \n",
    "        # HTML 파싱\n",
    "        soup = BeautifulSoup(response.text, \"html.parser\")\n",
    "        \n",
    "        # 글 제목 요소 추출\n",
    "        titles = soup.find_all(\"a\", class_=\"subject-link\")  # 게시글 제목에 해당하는 클래스 수정 필요 가능성\n",
    "        \n",
    "        # 각 제목에서 이모티콘이 포함된 글 제목 개수 확인 및 전체 글 개수 증가\n",
    "        for title in titles:\n",
    "            total_count += 1\n",
    "            if emoji_pattern.search(title.text):  # 이모티콘이 포함된 제목인지 확인\n",
    "                emoji_count += 1\n",
    "\n",
    "    return emoji_count, total_count\n",
    "\n",
    "# 사용자 입력\n",
    "job_name = input(\"직업 이름을 입력하세요: \")\n",
    "num_pages = int(input(\"크롤링할 페이지 수를 입력하세요: \"))\n",
    "\n",
    "# 게시판 URL 가져오기\n",
    "job_board_url = get_job_board_url(job_name)\n",
    "\n",
    "if job_board_url:\n",
    "    # 이모티콘이 포함된 글 제목의 개수와 전체 글 개수 확인\n",
    "    print(f\"현재 검색한 직업은 {job_name}입니다\")\n",
    "    emoji_title_count, total_title_count = count_emoji_titles(job_board_url, num_pages)\n",
    "    print(f\"{num_pages} 페이지에서 전체 글 제목의 개수: {total_title_count}\")\n",
    "    print(f\"{num_pages} 페이지에서 이모티콘이 포함된 글 제목의 개수: {emoji_title_count}\")\n",
    "else:\n",
    "    print(\"해당 직업의 게시판을 찾을 수 없습니다.\")\n"
   ]
  }
 ],
 "metadata": {
  "kernelspec": {
   "display_name": "Python 3",
   "language": "python",
   "name": "python3"
  },
  "language_info": {
   "codemirror_mode": {
    "name": "ipython",
    "version": 3
   },
   "file_extension": ".py",
   "mimetype": "text/x-python",
   "name": "python",
   "nbconvert_exporter": "python",
   "pygments_lexer": "ipython3",
   "version": "3.13.0"
  }
 },
 "nbformat": 4,
 "nbformat_minor": 2
}
